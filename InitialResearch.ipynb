{
 "cells": [
  {
   "cell_type": "markdown",
   "metadata": {},
   "source": [
    "# The Theater Row Problem"
   ]
  },
  {
   "cell_type": "markdown",
   "metadata": {},
   "source": [
    "Assume that we have a theater row of length $2n+1$. A total of $n$ women bought tickets at random in the row and a total of $n+1$ men have bought tickets at random in the row. We consider that a couple can be formed when a man and a woman are sitting next to each other. How many potential couples can be found in this row on average?"
   ]
  },
  {
   "cell_type": "code",
   "execution_count": 1,
   "metadata": {},
   "outputs": [],
   "source": [
    "import numpy as np\n",
    "import pandas as pd \n",
    "import matplotlib.pyplot as plt\n",
    "\n",
    "np.random.seed(54321)"
   ]
  },
  {
   "cell_type": "markdown",
   "metadata": {},
   "source": [
    "We make the choice of representing a row of length $2n+1$ as a one dimensional array of $0$, women, and $1$, men. As an example of $n=1$ one suck row would be $[0,1,1]$."
   ]
  },
  {
   "cell_type": "markdown",
   "metadata": {},
   "source": [
    "We choose a random sampling approach to estimate the average number of potential couples in a row of a give length. That is we generate uniformly at random a large number of rows of a given length, calculate the number of potential couples for each row in the sample and finally take the average over this sample to get the estimated average number of potential couples."
   ]
  },
  {
   "cell_type": "markdown",
   "metadata": {},
   "source": [
    "The first function takes a given row and simply count the number of potential couples according to the rules."
   ]
  },
  {
   "cell_type": "code",
   "execution_count": 2,
   "metadata": {},
   "outputs": [],
   "source": [
    "def count_potential_couples(row):\n",
    "    \"\"\" Counting the potential couples\n",
    "    \n",
    "    Takes a give row and count the potential couples as per the formation rule.\n",
    "    \n",
    "    Arguments:\n",
    "    ==========\n",
    "        row : array of 0 and 1\n",
    "    \n",
    "    Returns:\n",
    "    ========\n",
    "        pCouples : integer, total number of potential couples in the row\n",
    "    \"\"\"\n",
    "    pCouples = 0\n",
    "    for i in range(1,len(row)):\n",
    "        if row[i-1] != row[i]:\n",
    "            pCouples += 1\n",
    "    return pCouples;"
   ]
  },
  {
   "cell_type": "markdown",
   "metadata": {},
   "source": [
    "We then make up a function that generates a random row of fixed length."
   ]
  },
  {
   "cell_type": "code",
   "execution_count": 3,
   "metadata": {},
   "outputs": [],
   "source": [
    "def generate_random_row(n):\n",
    "    \"\"\" Generating one random row\n",
    "    \n",
    "    Generates a random row of length 2n+1.\n",
    "    \n",
    "    Arguments:\n",
    "    ==========\n",
    "        n : integer, corresponds to number of 0 in the 2n+1 row\n",
    "        \n",
    "    Returns:\n",
    "    ========\n",
    "        random_row : array of 0,1 integers\n",
    "    \"\"\"\n",
    "    wCount = n\n",
    "    mCount = n + 1\n",
    "    urn = [0]*wCount + [1]*mCount\n",
    "    random_row = np.random.choice(urn, len(urn), replace = False)\n",
    "    return random_row;"
   ]
  },
  {
   "cell_type": "markdown",
   "metadata": {},
   "source": [
    "Finally we code a function to calculate the estimated average over a sample of randomly generated rows."
   ]
  },
  {
   "cell_type": "code",
   "execution_count": 4,
   "metadata": {},
   "outputs": [],
   "source": [
    "def estimate_avg_pCouples(trials, n):\n",
    "    \"\"\" Sampling estimation of the average number of potential couples\n",
    "    \n",
    "    Uses repeated sampling of rows of length 2n+1 to calculate the average number of potential couples over the sampled set.\n",
    "    \n",
    "    Arguments:\n",
    "    ==========\n",
    "        trials : integer, number of times to repeat the sampling process\n",
    "        \n",
    "        n : integer, corresponds to the number of 0 in the 2n+1 row\n",
    "        \n",
    "    Returns:\n",
    "    ========\n",
    "         : float, estimated average of potential couples for rows of length 2n+1\n",
    "    \"\"\"\n",
    "    pCouples = 0\n",
    "    for i in range(trials):\n",
    "        pCouples += count_potential_couples(generate_random_row(n))\n",
    "    return float(pCouples) / trials; "
   ]
  },
  {
   "cell_type": "markdown",
   "metadata": {},
   "source": [
    "We run this estimation process for the first few values of $n$:"
   ]
  },
  {
   "cell_type": "code",
   "execution_count": 7,
   "metadata": {},
   "outputs": [
    {
     "name": "stdout",
     "output_type": "stream",
     "text": [
      "     Averages   N\n",
      "0    1.333561   1\n",
      "1    2.399610   2\n",
      "2    3.429867   3\n",
      "3    4.445300   4\n",
      "4    5.455299   5\n",
      "5    6.462415   6\n",
      "6    7.469665   7\n",
      "7    8.469475   8\n",
      "8    9.470442   9\n",
      "9   10.478465  10\n",
      "10  11.477162  11\n",
      "11  12.480784  12\n",
      "12  13.481134  13\n",
      "13  14.483524  14\n",
      "14  15.485536  15\n",
      "15  16.477920  16\n",
      "16  17.488242  17\n",
      "17  18.488750  18\n",
      "18  19.486653  19\n",
      "19  20.481907  20\n",
      "20  21.488050  21\n",
      "21  22.488221  22\n",
      "22  23.488535  23\n",
      "23  24.490597  24\n",
      "24  25.494537  25\n",
      "25  26.497599  26\n",
      "26  27.495681  27\n",
      "27  28.492598  28\n",
      "28  29.496454  29\n",
      "29  30.490323  30\n",
      "30  31.491532  31\n",
      "31  32.489279  32\n",
      "32  33.487737  33\n",
      "33  34.499620  34\n",
      "34  35.493380  35\n",
      "35  36.492072  36\n",
      "36  37.497226  37\n",
      "37  38.493548  38\n",
      "38  39.486261  39\n",
      "39  40.494955  40\n",
      "40  41.484341  41\n",
      "41  42.490416  42\n",
      "42  43.494256  43\n",
      "43  44.494375  44\n",
      "44  45.489497  45\n",
      "45  46.500592  46\n",
      "46  47.490142  47\n",
      "47  48.501760  48\n",
      "48  49.490083  49\n",
      "49  50.497401  50\n"
     ]
    },
    {
     "data": {
      "image/png": "[encoded data removed]",
      "text/plain": [
       "<matplotlib.figure.Figure at 0x7fbb2fe24b90>"
      ]
     },
     "metadata": {},
     "output_type": "display_data"
    }
   ],
   "source": [
    "trials = 1000000\n",
    "max_n = 50\n",
    "estimated_avgs = []\n",
    "for n in range(1, max_n+1):\n",
    "    estimated_avgs.append(estimate_avg_pCouples(trials, n))\n",
    "df = pd.DataFrame({'Averages': estimated_avgs, 'N': range(1, max_n+1)})\n",
    "print df\n",
    "\n",
    "plt.xlabel('Number of 0 / women')\n",
    "plt.ylabel('Average number of potential couples')\n",
    "plt.title('Estimated number of potential couples by number of women')\n",
    "plt.plot(range(1, max_n+1), df['Averages'], 'r^')\n",
    "plt.grid(True)\n",
    "plt.show()"
   ]
  }
 ],
 "metadata": {
  "kernelspec": {
   "display_name": "Python 3",
   "language": "python",
   "name": "python3"
  },
  "language_info": {
   "codemirror_mode": {
    "name": "ipython",
    "version": 2
   },
   "file_extension": ".py",
   "mimetype": "text/x-python",
   "name": "python",
   "nbconvert_exporter": "python",
   "pygments_lexer": "ipython2",
   "version": "2.7.12"
  }
 },
 "nbformat": 4,
 "nbformat_minor": 1
}
